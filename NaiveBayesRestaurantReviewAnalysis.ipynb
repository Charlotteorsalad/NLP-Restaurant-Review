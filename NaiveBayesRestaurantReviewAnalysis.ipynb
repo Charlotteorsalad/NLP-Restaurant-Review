{
 "cells": [
  {
   "cell_type": "code",
   "execution_count": 41,
   "id": "ff93d4e5-fbce-43ff-a57d-d15704d9034c",
   "metadata": {
    "id": "ff93d4e5-fbce-43ff-a57d-d15704d9034c"
   },
   "outputs": [],
   "source": [
    "import os\n",
    "import pandas as pd\n",
    "import numpy as np\n",
    "import matplotlib.pyplot as plt\n",
    "import seaborn as sns\n",
    "import re\n",
    "import nltk\n",
    "from nltk.corpus import stopwords\n",
    "from nltk.tokenize import WhitespaceTokenizer\n",
    "from nltk.stem import WordNetLemmatizer\n",
    "from sklearn.feature_extraction.text import TfidfVectorizer\n",
    "from sklearn.model_selection import train_test_split, GridSearchCV, cross_val_score\n",
    "from sklearn.naive_bayes import MultinomialNB\n",
    "from sklearn.metrics import accuracy_score, precision_score, recall_score, f1_score, classification_report, confusion_matrix\n",
    "from imblearn.over_sampling import SMOTE\n",
    "from time import time\n",
    "import pickle\n",
    "import sys"
   ]
  },
  {
   "cell_type": "code",
   "execution_count": 42,
   "id": "080bb4fd-816a-4228-b48c-42688c946c55",
   "metadata": {
    "id": "080bb4fd-816a-4228-b48c-42688c946c55"
   },
   "outputs": [],
   "source": [
    "# Ensure nltk resources are downloaded\n",
    "# Commented because already downloaded\n",
    "# nltk.download('stopwords')\n",
    "# nltk.download('wordnet')"
   ]
  },
  {
   "cell_type": "code",
   "execution_count": 43,
   "id": "487da3e3-e56b-4918-8b1e-75c4d7c34555",
   "metadata": {
    "id": "487da3e3-e56b-4918-8b1e-75c4d7c34555"
   },
   "outputs": [
    {
     "name": "stdout",
     "output_type": "stream",
     "text": [
      "                                              Review  Rating  \\\n",
      "0  I have good memories of this place. It was pri...     2.0   \n",
      "1  My wife and I have a lovely night at Healy Mac...     5.0   \n",
      "2  Strict sops followed. Crowded but people had s...     4.0   \n",
      "3  You can get the beat Guinness Stout here. The ...     5.0   \n",
      "4  Serving varieties foods, pasta, meat, seafood,...     5.0   \n",
      "\n",
      "                           Restaurant  Label  \n",
      "0  Healy Mac's Irish Bar & Restaurant      0  \n",
      "1  Healy Mac's Irish Bar & Restaurant      2  \n",
      "2  Healy Mac's Irish Bar & Restaurant      2  \n",
      "3  Healy Mac's Irish Bar & Restaurant      2  \n",
      "4  Healy Mac's Irish Bar & Restaurant      2  \n"
     ]
    }
   ],
   "source": [
    "import pandas as pd\n",
    "\n",
    "def load_and_preprocess_data(file_path='GoogleReview_data_cleaned.csv', location='Penang'):\n",
    "    try:\n",
    "        df = pd.read_csv(file_path)\n",
    "        # Ensure 'Restaurant' column is included\n",
    "        df = df[df['Location'] == location]\n",
    "        df = df[['Review', 'Rating', 'Restaurant']]\n",
    "        df.drop_duplicates(inplace=True)\n",
    "        df.reset_index(drop=True, inplace=True)\n",
    "        df[\"Label\"] = df[\"Rating\"].apply(lambda x: 2 if x > 3 else 0 if x < 3 else 1)\n",
    "        return df\n",
    "    except Exception as e:\n",
    "        print(f\"Error loading data: {e}\")\n",
    "        return None\n",
    "\n",
    "# Call the function\n",
    "df = load_and_preprocess_data()\n",
    "if df is not None:\n",
    "    print(df.head())  # Show first few rows of the dataframe\n"
   ]
  },
  {
   "cell_type": "code",
   "execution_count": 44,
   "id": "9758224b-80a0-4352-8b6a-597bb17f0ade",
   "metadata": {
    "id": "9758224b-80a0-4352-8b6a-597bb17f0ade"
   },
   "outputs": [],
   "source": [
    "# Balance the dataset\n",
    "def balance_dataset(X, y):\n",
    "    smote = SMOTE()\n",
    "    X_res, y_res = smote.fit_resample(X, y)\n",
    "    return X_res, y_res"
   ]
  },
  {
   "cell_type": "code",
   "execution_count": 45,
   "id": "189642c3-f7b6-42f2-993a-0b9a99c42e6e",
   "metadata": {
    "id": "189642c3-f7b6-42f2-993a-0b9a99c42e6e"
   },
   "outputs": [],
   "source": [
    "# Clean text data\n",
    "def clean_text(series, stop_words):\n",
    "    lemmatizer = WordNetLemmatizer()\n",
    "    tokenizer = WhitespaceTokenizer()\n",
    "\n",
    "    def expand_contractions(text, contractions_dict):\n",
    "        contractions_pattern = re.compile('({})'.format('|'.join(contractions_dict.keys())), flags=re.IGNORECASE|re.DOTALL)\n",
    "        def expand_match(contraction):\n",
    "            match = contraction.group(0)\n",
    "            first_char = match[0]\n",
    "            expanded_contraction = contractions_dict.get(match if match in contractions_dict else match.lower(), match)\n",
    "            return first_char + expanded_contraction[1:]\n",
    "        expanded_text = contractions_pattern.sub(expand_match, text)\n",
    "        return expanded_text\n",
    "\n",
    "    contractions_dict = {\n",
    "        \"isn't\": \"is not\",\n",
    "        \"aren't\": \"are not\",\n",
    "        \"can't\": \"cannot\",\n",
    "        \"couldn't\": \"could not\",\n",
    "        \"didn't\": \"did not\",\n",
    "    }\n",
    "\n",
    "    series = series.str.lower()\n",
    "    series = series.apply(lambda x: expand_contractions(x, contractions_dict))\n",
    "    series = series.str.replace('[^\\x00-\\x7F]+', ' ', regex=True)\n",
    "    series = series.str.replace('\\W', ' ', regex=True)\n",
    "    series = series.str.replace('\\d+', ' ', regex=True)\n",
    "    series = series.apply(lambda x: ' '.join(word for word in x.split() if word not in stop_words))\n",
    "    series = series.apply(lambda x: ' '.join(lemmatizer.lemmatize(word) for word in tokenizer.tokenize(x)))\n",
    "\n",
    "    return series"
   ]
  },
  {
   "cell_type": "code",
   "execution_count": 46,
   "id": "335402ce-5456-4732-bca0-19bae02609c3",
   "metadata": {
    "id": "335402ce-5456-4732-bca0-19bae02609c3"
   },
   "outputs": [],
   "source": [
    "# Function to visualize data balancing\n",
    "def visualize_data_balancing(original_df, balanced_df):\n",
    "    fig, axes = plt.subplots(1, 2, figsize=(12, 5))\n",
    "\n",
    "    # Original dataset distribution\n",
    "    original_counts = original_df['Label'].value_counts().sort_index()\n",
    "    original_counts.index = ['Negative', 'Neutral', 'Positive']\n",
    "    original_counts.plot(kind='bar', ax=axes[0], color=['red', 'blue', 'green'], title='Original Label Distribution')\n",
    "    axes[0].set_ylabel('Count')\n",
    "    axes[0].set_xlabel('Sentiment')\n",
    "\n",
    "    # Balanced dataset distribution\n",
    "    balanced_counts = balanced_df['Label'].value_counts().sort_index()\n",
    "    balanced_counts.index = ['Negative', 'Neutral', 'Positive']\n",
    "    balanced_counts.plot(kind='bar', ax=axes[1], color=['red', 'blue', 'green'], title='Balanced Label Distribution')\n",
    "    axes[1].set_ylabel('Count')\n",
    "    axes[1].set_xlabel('Sentiment')\n",
    "\n",
    "    plt.tight_layout()  # Ensure the plot fits within the display area\n",
    "    plt.show()"
   ]
  },
  {
   "cell_type": "code",
   "execution_count": 47,
   "id": "d9f36d09-cb7a-475d-960c-b2e8c4b62ee0",
   "metadata": {
    "id": "d9f36d09-cb7a-475d-960c-b2e8c4b62ee0"
   },
   "outputs": [],
   "source": [
    "# Aggregate and display top 10 restaurants in Penang based on predictions\n",
    "def top_10_restaurants_by_rating(df, predictions):\n",
    "    df['Predicted_Label'] = predictions\n",
    "    positive_reviews = df[df['Predicted_Label'] == 2]\n",
    "    top_restaurants = positive_reviews['Restaurant'].value_counts().head(10)\n",
    "    print(\"Top 10 Restaurants in Penang based on predicted positive reviews:\")\n",
    "    print(top_restaurants)\n",
    "    return top_restaurants"
   ]
  },
  {
   "cell_type": "code",
   "execution_count": 48,
   "id": "cdffc0d6-d878-46b7-9125-07ea8c9b85fc",
   "metadata": {
    "id": "cdffc0d6-d878-46b7-9125-07ea8c9b85fc"
   },
   "outputs": [],
   "source": [
    "# Train and evaluate the Naive Bayes model\n",
    "def train_and_evaluate_naive_bayes(X_train, y_train, X_val, y_val, X_test, y_test):\n",
    "    param_grid = {'alpha': [0.1, 0.5, 1.0, 2.0, 5.0]}\n",
    "    grid_search = GridSearchCV(MultinomialNB(), param_grid, cv=5, scoring='f1_macro')\n",
    "    grid_search.fit(X_train, y_train)\n",
    "\n",
    "    model = grid_search.best_estimator_\n",
    "\n",
    "    val_predictions = model.predict(X_val)\n",
    "    test_predictions = model.predict(X_test)\n",
    "\n",
    "    val_metrics = {\n",
    "        'accuracy': accuracy_score(y_val, val_predictions),\n",
    "        'precision': precision_score(y_val, val_predictions, average='macro'),\n",
    "        'recall': recall_score(y_val, val_predictions, average='macro'),\n",
    "        'f1_score': f1_score(y_val, val_predictions, average='macro')\n",
    "    }\n",
    "\n",
    "    test_metrics = {\n",
    "        'accuracy': accuracy_score(y_test, test_predictions),\n",
    "        'precision': precision_score(y_test, test_predictions, average='macro'),\n",
    "        'recall': recall_score(y_test, test_predictions, average='macro'),\n",
    "        'f1_score': f1_score(y_test, test_predictions, average='macro')\n",
    "    }\n",
    "\n",
    "    return model, val_metrics, test_metrics, test_predictions"
   ]
  },
  {
   "cell_type": "code",
   "execution_count": 49,
   "id": "3e270d33-dc0e-44ff-adde-6f43e89768c9",
   "metadata": {
    "id": "3e270d33-dc0e-44ff-adde-6f43e89768c9"
   },
   "outputs": [],
   "source": [
    "# Main script\n",
    "def main():\n",
    "    # Load and preprocess data\n",
    "    df = load_and_preprocess_data(\"GoogleReview_data_cleaned.csv\")\n",
    "    if df is None:\n",
    "        return\n",
    "\n",
    "    # Text cleaning\n",
    "    stopwordz = stopwords.words(\"English\")\n",
    "    stopwordz.remove('not')\n",
    "    df['Cleaned_Review'] = clean_text(df['Review'], stopwordz)\n",
    "\n",
    "    # Feature extraction using TF-IDF\n",
    "    vectorizer = TfidfVectorizer()\n",
    "    X = vectorizer.fit_transform(df['Cleaned_Review'])\n",
    "    y = df['Label']\n",
    "\n",
    "    # Balance the dataset\n",
    "    X_balanced, y_balanced = balance_dataset(X, y)\n",
    "\n",
    "    # Visualize data balancing\n",
    "    visualize_data_balancing(df, pd.DataFrame(X_balanced.toarray(), columns=vectorizer.get_feature_names_out()).assign(Label=y_balanced))\n",
    "\n",
    "    # Split data\n",
    "    X_train, X_temp, y_train, y_temp = train_test_split(X_balanced, y_balanced, test_size=0.3, random_state=42)\n",
    "    X_val, X_test, y_val, y_test = train_test_split(X_temp, y_temp, test_size=0.5, random_state=42)\n",
    "\n",
    "    # Train and evaluate Naive Bayes model\n",
    "    model, val_metrics, test_metrics, test_predictions = train_and_evaluate_naive_bayes(X_train, y_train, X_val, y_val, X_test, y_test)\n",
    "\n",
    "    # Display metrics\n",
    "    print(\"Validation Metrics:\", val_metrics)\n",
    "    print(\"Test Metrics:\", test_metrics)\n",
    "\n",
    "    # Display top 10 restaurants based on predicted ratings\n",
    "    top_10_restaurants_by_rating(df, model.predict(vectorizer.transform(df['Cleaned_Review'])))\n",
    "\n",
    "    # Serialize the model\n",
    "    with open('naive_bayes_model3.pkl', 'wb') as model_file:\n",
    "        pickle.dump(model, model_file)"
   ]
  },
  {
   "cell_type": "code",
   "execution_count": 50,
   "id": "13811741-038a-4cb8-a241-c219f77a9ff2",
   "metadata": {
    "colab": {
     "base_uri": "https://localhost:8080/"
    },
    "id": "13811741-038a-4cb8-a241-c219f77a9ff2",
    "outputId": "230e6475-f5fe-42e3-eebb-83707bd57a5d"
   },
   "outputs": [
    {
     "data": {
      "image/png": "[encoded data removed]",
      "text/plain": [
       "<Figure size 1200x500 with 2 Axes>"
      ]
     },
     "metadata": {},
     "output_type": "display_data"
    },
    {
     "name": "stdout",
     "output_type": "stream",
     "text": [
      "Validation Metrics: {'accuracy': 0.7874612469858767, 'precision': 0.7882823669099602, 'recall': 0.7873259076536324, 'f1_score': 0.7876557153729302}\n",
      "Test Metrics: {'accuracy': 0.7896141922149501, 'precision': 0.7902404264705454, 'recall': 0.7891771590579468, 'f1_score': 0.7895665776306361}\n",
      "Top 10 Restaurants in Penang based on predicted positive reviews:\n",
      "Restaurant\n",
      "Jawi House Cafe Gallery                                                  413\n",
      "Lagenda House & Cafe                                                     404\n",
      "Healy Mac's Irish Bar & Restaurant                                       364\n",
      "Cheang Kee Restaurant                                                    364\n",
      "Two Frenchies Cafe Bistro                                                323\n",
      "Andrew's Kampung                                                         263\n",
      "Narrow Marrow                                                            262\n",
      "Let's Meat | American Restaurant | American Food | American Breakfast    248\n",
      "Via Pre Penang Italian Restaurants                                       242\n",
      "The Loft - Love Lane                                                     237\n",
      "Name: count, dtype: int64\n"
     ]
    }
   ],
   "source": [
    "if __name__ == \"__main__\":\n",
    "    main()"
   ]
  }
 ],
 "metadata": {
  "colab": {
   "provenance": []
  },
  "kernelspec": {
   "display_name": "Python 3 (ipykernel)",
   "language": "python",
   "name": "python3"
  },
  "language_info": {
   "codemirror_mode": {
    "name": "ipython",
    "version": 3
   },
   "file_extension": ".py",
   "mimetype": "text/x-python",
   "name": "python",
   "nbconvert_exporter": "python",
   "pygments_lexer": "ipython3",
   "version": "3.11.9"
  }
 },
 "nbformat": 4,
 "nbformat_minor": 5
}
